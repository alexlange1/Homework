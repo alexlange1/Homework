{
 "cells": [
  {
   "cell_type": "code",
   "execution_count": 1,
   "id": "551732fb",
   "metadata": {},
   "outputs": [
    {
     "name": "stdout",
     "output_type": "stream",
     "text": [
      "Hello World\n"
     ]
    }
   ],
   "source": [
    "#Exercise 1\n",
    "print('Hello World')"
   ]
  },
  {
   "cell_type": "code",
   "execution_count": 4,
   "id": "76d4af29",
   "metadata": {},
   "outputs": [
    {
     "name": "stdout",
     "output_type": "stream",
     "text": [
      "The sum equals to 14\n",
      "The difference equals to 4\n",
      "The product equals to 45\n",
      "The quotient equals to 0.5555555555555556\n"
     ]
    }
   ],
   "source": [
    "#Exercise 2\n",
    "a = 5\n",
    "b = 9\n",
    "\n",
    "print(f'The sum equals to {a + b}')\n",
    "print(f'The difference equals to {abs(a - b)}')\n",
    "print(f'The product equals to {a * b}')\n",
    "print(f'The quotient equals to {a / b}')"
   ]
  },
  {
   "cell_type": "code",
   "execution_count": 6,
   "id": "d9c86e9f",
   "metadata": {},
   "outputs": [
    {
     "name": "stdout",
     "output_type": "stream",
     "text": [
      "Hello, Alex!\n"
     ]
    }
   ],
   "source": [
    "#Exercise 3\n",
    "name = 'Alex'\n",
    "\n",
    "print(f'Hello, {name}!')"
   ]
  },
  {
   "cell_type": "code",
   "execution_count": 7,
   "id": "b68873f5",
   "metadata": {},
   "outputs": [
    {
     "name": "stdout",
     "output_type": "stream",
     "text": [
      "['WHU', 'EBS', 'Frankfurt School', 'LMU', 'TUM']\n",
      "The first university is WHU, the last TUM\n"
     ]
    }
   ],
   "source": [
    "#Exercise 4\n",
    "universities = ['WHU', 'EBS', 'Frankfurt School', 'LMU', 'TUM']\n",
    "\n",
    "print(universities)\n",
    "print(f'The first university is {universities[0]}, the last {universities[-1]}')"
   ]
  },
  {
   "cell_type": "code",
   "execution_count": 25,
   "id": "7479f481",
   "metadata": {},
   "outputs": [
    {
     "name": "stdout",
     "output_type": "stream",
     "text": [
      "Name: John\n",
      "Age: 28\n",
      "Grade: A\n"
     ]
    }
   ],
   "source": [
    "#Exercise 5\n",
    "student = {'name':'John', 'age':28, 'grade':'A'}\n",
    "\n",
    "for key, value in student.items():\n",
    "    print(f'{key.capitalize()}: {value}')\n",
    "\n",
    "#print(student)\n",
    "#remember dictionary_name.values() & dictionary_name.keys()"
   ]
  },
  {
   "cell_type": "code",
   "execution_count": 47,
   "id": "8ff2013c",
   "metadata": {},
   "outputs": [
    {
     "name": "stdout",
     "output_type": "stream",
     "text": [
      "The x-coordinates are: 4, 2\n",
      "The y-coordinates are: 8, 9\n"
     ]
    }
   ],
   "source": [
    "#Exercise 6\n",
    "coordinates = ((4, 8), (2, 9))\n",
    "\n",
    "print(f'The x-coordinates are: {\", \".join(str(x[0]) for x in coordinates)}')\n",
    "print(f'The y-coordinates are: {\", \".join(str(x[1]) for x in coordinates)}')"
   ]
  },
  {
   "cell_type": "code",
   "execution_count": 68,
   "id": "6709054d",
   "metadata": {},
   "outputs": [
    {
     "name": "stdout",
     "output_type": "stream",
     "text": [
      "{'red', 'blue', 'green', 'yellow'}\n",
      "{'red', 'blue', 'yellow'}\n",
      "{'blue', 'purple', 'yellow', 'orange', 'red', 'pink'}\n"
     ]
    }
   ],
   "source": [
    "#Exercise 7\n",
    "colors = {'red', 'green', 'blue'}\n",
    "colors.add('yellow')\n",
    "\n",
    "colors.add('green')\n",
    "print(colors)\n",
    "#note: adding duplicates does not change the values in the set\n",
    "\n",
    "colors.remove('green')\n",
    "print(colors)\n",
    "\n",
    "light_colors = {'orange', 'pink', 'purple', 'yellow'}\n",
    "#print(light_colors)\n",
    "\n",
    "merged_sets = colors.union(light_colors)\n",
    "print(merged_sets)"
   ]
  },
  {
   "cell_type": "code",
   "execution_count": 72,
   "id": "1a5d788b",
   "metadata": {},
   "outputs": [
    {
     "name": "stdout",
     "output_type": "stream",
     "text": [
      "Please enter a number: 8\n",
      "8 is positive!\n"
     ]
    }
   ],
   "source": [
    "#Exercise 8\n",
    "num = input(\"Please enter a number: \")\n",
    "\n",
    "if int(num) > 0:\n",
    "    print(f'{num} is positive!')\n",
    "elif int(num) < 0:\n",
    "    print(f'{num} is negative!')\n",
    "else:\n",
    "    print(f'You\\'ve entered zero!')\n",
    "\n",
    "#return statements can only be used within functions, no conditional statements"
   ]
  },
  {
   "cell_type": "code",
   "execution_count": 78,
   "id": "be772070",
   "metadata": {},
   "outputs": [
    {
     "name": "stdout",
     "output_type": "stream",
     "text": [
      "1\n",
      "2\n",
      "3\n",
      "4\n",
      "5\n"
     ]
    },
    {
     "data": {
      "text/plain": [
       "'\\nlist = []\\nfor x in range(1, 6):\\n    list.append(x)\\n'"
      ]
     },
     "execution_count": 78,
     "metadata": {},
     "output_type": "execute_result"
    }
   ],
   "source": [
    "#Exercise 9\n",
    "list = [1, 2, 3, 4, 5]\n",
    "\n",
    "for x in list:\n",
    "    print(x)\n",
    "\n",
    "'''\n",
    "list = []\n",
    "for x in range(1, 6):\n",
    "    list.append(x)\n",
    "'''\n",
    "    \n",
    "    \n"
   ]
  },
  {
   "cell_type": "code",
   "execution_count": 79,
   "id": "588744e7",
   "metadata": {},
   "outputs": [
    {
     "name": "stdout",
     "output_type": "stream",
     "text": [
      "1\n",
      "2\n",
      "3\n",
      "4\n",
      "5\n"
     ]
    }
   ],
   "source": [
    "#Exercise 10\n",
    "index = 1\n",
    "\n",
    "while index < 6:\n",
    "    print(index)\n",
    "    index += 1\n"
   ]
  },
  {
   "cell_type": "code",
   "execution_count": 3,
   "id": "a87292dc",
   "metadata": {},
   "outputs": [
    {
     "name": "stdout",
     "output_type": "stream",
     "text": [
      "Please input a grade from A to F, except E: a\n",
      "Excellent!\n"
     ]
    }
   ],
   "source": [
    "#Exercise 11\n",
    "grade = input('Please input a grade from A to F, except E: ')\n",
    "\n",
    "if grade.capitalize() == 'A':\n",
    "    print('Excellent!')\n",
    "elif grade.capitalize() == 'B':\n",
    "    print('Good job!')\n",
    "elif grade.capitalize() == 'C':\n",
    "    print('Fair.')\n",
    "elif grade.capitalize() == 'D':\n",
    "    print('Needs improvement.')\n",
    "elif grade.capitalize() == 'F':\n",
    "    print('Failing')\n",
    "else:\n",
    "    print('Invalid Input. Please retry')"
   ]
  },
  {
   "cell_type": "code",
   "execution_count": 9,
   "id": "70b77695",
   "metadata": {},
   "outputs": [
    {
     "name": "stdout",
     "output_type": "stream",
     "text": [
      "Hello, Alex!\n"
     ]
    }
   ],
   "source": [
    "#Exercise 12\n",
    "\n",
    "def greet(name):\n",
    "    print(f'Hello, {name}!')\n",
    "\n",
    "greet('Alex')"
   ]
  },
  {
   "cell_type": "code",
   "execution_count": 16,
   "id": "7349c039",
   "metadata": {},
   "outputs": [
    {
     "name": "stdout",
     "output_type": "stream",
     "text": [
      "20.25\n"
     ]
    }
   ],
   "source": [
    "#Exercise 13\n",
    "\n",
    "def square(number):\n",
    "    return number ** 2\n",
    "\n",
    "print(square(4.5))"
   ]
  },
  {
   "cell_type": "code",
   "execution_count": 22,
   "id": "57a902b2",
   "metadata": {},
   "outputs": [
    {
     "name": "stdout",
     "output_type": "stream",
     "text": [
      "28\n",
      "3\n"
     ]
    }
   ],
   "source": [
    "#Exercise 14\n",
    "\n",
    "def multiply(a, b = 1):\n",
    "    return a * b\n",
    "\n",
    "test_one = multiply(4, 7)\n",
    "test_two = multiply(3)\n",
    "\n",
    "print(test_one)\n",
    "print(test_two)"
   ]
  },
  {
   "cell_type": "code",
   "execution_count": 28,
   "id": "1cf78918",
   "metadata": {},
   "outputs": [
    {
     "name": "stdout",
     "output_type": "stream",
     "text": [
      "[1, 2, 3, 4, 5, 6, 7, 8, 9]\n",
      "[1, 4, 9, 16, 25, 36, 49, 64, 81]\n"
     ]
    }
   ],
   "source": [
    "#Exercise 15\n",
    "\n",
    "list = []\n",
    "for x in range(1,10):\n",
    "    list.append(x)\n",
    "\n",
    "squared_list = []\n",
    "for x in list:\n",
    "    squared_list.append(x**2)\n",
    "    \n",
    "print(list)\n",
    "print(squared_list)"
   ]
  },
  {
   "cell_type": "code",
   "execution_count": 51,
   "id": "6e401f7b",
   "metadata": {},
   "outputs": [
    {
     "name": "stdout",
     "output_type": "stream",
     "text": [
      "The average grade of student Jeff is 5.0\n",
      "The average grade of student Clara is 7.8\n",
      "The average grade of student Antonia is 6.6\n",
      "The average grade of student Louisa is 4.2\n",
      "The average grade of student Emil is 4.8\n"
     ]
    }
   ],
   "source": [
    "#Exercise 16\n",
    "\n",
    "gradebook = {'Jeff':(4,2,4,8,5,7), 'Clara':(9,9,7,6,8), 'Antonia':(5,9,6,6,7), 'Louisa':(4,5,2,3,7), 'Emil':(7,6,3,4,4)}\n",
    "\n",
    "def grades(gradebook):\n",
    "    for key, value in gradebook.items():\n",
    "        key_average = sum(value) / len(value)\n",
    "        print(f'The average grade of student {key} is {key_average}')\n",
    "                 \n",
    "grades(gradebook)"
   ]
  },
  {
   "cell_type": "code",
   "execution_count": null,
   "id": "4a3364ba",
   "metadata": {},
   "outputs": [],
   "source": [
    "#Exercise 17\n",
    "\n",
    "def calculate(num1, num2, operator):\n",
    "    if operator == '*':\n",
    "        return int(num1) * int(num2)\n",
    "    elif operator == '+':\n",
    "        return int(num1) + int(num2)\n",
    "    elif operator == '-':\n",
    "        return int(num1) - int(num2)\n",
    "    elif operator == '/':\n",
    "        return int(num1) / int(num2)\n",
    "    else:\n",
    "        print('False Operator')\n",
    "\n",
    "number_1 = input('Please name a number: ')\n",
    "number_2 = input('Please name another number: ')\n",
    "op = str(input('Please name an operator (+, -, *, /): '))\n",
    "\n",
    "calculate(number_1, number_2, op)\n",
    "\n",
    "#double check"
   ]
  },
  {
   "cell_type": "code",
   "execution_count": 48,
   "id": "7eafd9b0",
   "metadata": {},
   "outputs": [
    {
     "name": "stdout",
     "output_type": "stream",
     "text": [
      "15\n"
     ]
    },
    {
     "data": {
      "text/plain": [
       "'for x in list:\\n    total += x\\n    print(total)'"
      ]
     },
     "execution_count": 48,
     "metadata": {},
     "output_type": "execute_result"
    }
   ],
   "source": [
    "list = [3, 4, 6, 2]\n",
    "\n",
    "total = sum(list)\n",
    "print(total)\n",
    "\n",
    "\n",
    "'''for x in list:\n",
    "    total += x\n",
    "    print(total)'''"
   ]
  }
 ],
 "metadata": {
  "kernelspec": {
   "display_name": "Python 3 (ipykernel)",
   "language": "python",
   "name": "python3"
  },
  "language_info": {
   "codemirror_mode": {
    "name": "ipython",
    "version": 3
   },
   "file_extension": ".py",
   "mimetype": "text/x-python",
   "name": "python",
   "nbconvert_exporter": "python",
   "pygments_lexer": "ipython3",
   "version": "3.11.4"
  }
 },
 "nbformat": 4,
 "nbformat_minor": 5
}
