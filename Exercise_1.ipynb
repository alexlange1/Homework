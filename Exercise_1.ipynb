{
 "cells": [
  {
   "cell_type": "markdown",
   "id": "e1d45e3b",
   "metadata": {},
   "source": [
    "**Exercise 1: Print a Greeting**\n",
    "- Write a Python program that prints a greeting message, such as \"Hello, Python!\"."
   ]
  },
  {
   "cell_type": "code",
   "execution_count": 1,
   "id": "551732fb",
   "metadata": {},
   "outputs": [
    {
     "name": "stdout",
     "output_type": "stream",
     "text": [
      "Hello, Python\n"
     ]
    }
   ],
   "source": [
    "print('Hello, Python')"
   ]
  },
  {
   "cell_type": "markdown",
   "id": "7fc620a6",
   "metadata": {},
   "source": [
    "**Exercise 2: Basic Arithmetic**\n",
    "Create a program that:\n",
    "- Defines two variables, a and b, with numerical values.\n",
    "- Prints their sum, difference, product, and quotient."
   ]
  },
  {
   "cell_type": "code",
   "execution_count": 11,
   "id": "76d4af29",
   "metadata": {},
   "outputs": [
    {
     "name": "stdout",
     "output_type": "stream",
     "text": [
      "The sum equals to 14\n",
      "The difference equals to 4\n",
      "The product equals to 45\n",
      "The quotient equals to 0.5555555555555556\n"
     ]
    }
   ],
   "source": [
    "a = 5\n",
    "b = 9\n",
    "\n",
    "print(f'The sum equals to {a + b}')\n",
    "print(f'The difference equals to {abs(a - b)}')\n",
    "print(f'The product equals to {a * b}')\n",
    "print(f'The quotient equals to {a / b}')"
   ]
  },
  {
   "cell_type": "markdown",
   "id": "cfb1dfe3",
   "metadata": {},
   "source": [
    "**Exercise 3: String Manipulation**\n",
    "- Define a variable name and assign it your name. Write a program that prints a message saying \"Hello, [name]!\" where [name] is the value of the variable."
   ]
  },
  {
   "cell_type": "code",
   "execution_count": 12,
   "id": "d9c86e9f",
   "metadata": {},
   "outputs": [
    {
     "name": "stdout",
     "output_type": "stream",
     "text": [
      "Hello, Alex!\n"
     ]
    }
   ],
   "source": [
    "name = 'Alex'\n",
    "\n",
    "print(f'Hello, {name}!')"
   ]
  },
  {
   "cell_type": "markdown",
   "id": "d6f01046",
   "metadata": {},
   "source": [
    "**Exercise 4: Lists**\n",
    "- Create a list called universities with at least five different university names.\n",
    "- Print the entire list.\n",
    "- Print the first and last university in the list"
   ]
  },
  {
   "cell_type": "code",
   "execution_count": 13,
   "id": "b68873f5",
   "metadata": {},
   "outputs": [
    {
     "name": "stdout",
     "output_type": "stream",
     "text": [
      "['WHU', 'EBS', 'Frankfurt School', 'LMU', 'TUM']\n",
      "The first university is WHU, the last TUM\n"
     ]
    }
   ],
   "source": [
    "universities = ['WHU', 'EBS', 'Frankfurt School', 'LMU', 'TUM']\n",
    "\n",
    "print(universities)\n",
    "print(f'The first university is {universities[0]}, the last {universities[-1]}')"
   ]
  },
  {
   "cell_type": "markdown",
   "id": "c73e17b1",
   "metadata": {},
   "source": [
    "**Exercise 5: Dictionaries**\n",
    "- Create a dictionary called student with keys: name, age, and grade, and assign appropriate\n",
    "values to each key.\n",
    "- Write a program that prints each key-value pair in the dictionary"
   ]
  },
  {
   "cell_type": "code",
   "execution_count": 14,
   "id": "7479f481",
   "metadata": {},
   "outputs": [
    {
     "name": "stdout",
     "output_type": "stream",
     "text": [
      "Name: John\n",
      "Age: 28\n",
      "Grade: A\n"
     ]
    }
   ],
   "source": [
    "student = {'name':'John', 'age':28, 'grade':'A'}\n",
    "\n",
    "for key, value in student.items():\n",
    "    print(f'{key.capitalize()}: {value}')\n",
    "\n",
    "#print(student)\n",
    "#remember dictionary_name.values() & dictionary_name.keys()"
   ]
  },
  {
   "cell_type": "markdown",
   "id": "dc7cc228",
   "metadata": {},
   "source": [
    "**Exercise 6: Tuples**\n",
    "- Define a tuple called coordinates with two values representing a point in 2D space (e.g., (x, y)).\n",
    "- Print the value of coordinates and access each element by its index."
   ]
  },
  {
   "cell_type": "code",
   "execution_count": 15,
   "id": "8ff2013c",
   "metadata": {},
   "outputs": [
    {
     "name": "stdout",
     "output_type": "stream",
     "text": [
      "The x-coordinates are: 4, 2\n",
      "The y-coordinates are: 8, 9\n"
     ]
    }
   ],
   "source": [
    "#Exercise 6\n",
    "coordinates = ((4, 8), (2, 9))\n",
    "\n",
    "print(f'The x-coordinates are: {\", \".join(str(x[0]) for x in coordinates)}')\n",
    "print(f'The y-coordinates are: {\", \".join(str(x[1]) for x in coordinates)}')"
   ]
  },
  {
   "cell_type": "markdown",
   "id": "9d5f2bf1",
   "metadata": {},
   "source": [
    "**Exercise 7: Sets**\n",
    "- Create a set called colors with the values: \"red\", \"green\", \"blue\".\n",
    "- Add another color to the set.\n",
    "- Try adding a duplicate color and observe what happens.\n",
    "- Print the set and remove one color from it.\n",
    "- Create another set named light_colors and merge colors and light_colors."
   ]
  },
  {
   "cell_type": "code",
   "execution_count": 16,
   "id": "6709054d",
   "metadata": {},
   "outputs": [
    {
     "name": "stdout",
     "output_type": "stream",
     "text": [
      "{'blue', 'green', 'red', 'yellow'}\n",
      "{'blue', 'red', 'yellow'}\n",
      "{'yellow', 'purple', 'blue', 'pink', 'red', 'orange'}\n"
     ]
    }
   ],
   "source": [
    "#Exercise 7\n",
    "colors = {'red', 'green', 'blue'}\n",
    "colors.add('yellow')\n",
    "\n",
    "colors.add('green')\n",
    "print(colors)\n",
    "#note: adding duplicates does not change the values in the set\n",
    "\n",
    "colors.remove('green')\n",
    "print(colors)\n",
    "\n",
    "light_colors = {'orange', 'pink', 'purple', 'yellow'}\n",
    "#print(light_colors)\n",
    "\n",
    "merged_sets = colors.union(light_colors)\n",
    "print(merged_sets)"
   ]
  },
  {
   "cell_type": "markdown",
   "id": "97e21ae2",
   "metadata": {},
   "source": [
    "**Exercise 8: Conditional Statements**\n",
    "- Write a program that:\n",
    "- Takes an input number from the user.\n",
    "- Checks if the number is positive, negative, or zero.\n",
    "- Prints an appropriate message based on the result."
   ]
  },
  {
   "cell_type": "code",
   "execution_count": 17,
   "id": "1a5d788b",
   "metadata": {},
   "outputs": [
    {
     "name": "stdout",
     "output_type": "stream",
     "text": [
      "5 is positive!\n"
     ]
    }
   ],
   "source": [
    "num = input('Please enter a number: ')\n",
    "\n",
    "if int(num) > 0:\n",
    "    print(f'{num} is positive!')\n",
    "elif int(num) < 0:\n",
    "    print(f'{num} is negative!')\n",
    "else:\n",
    "    print(f'You\\'ve entered zero!')\n",
    "\n",
    "#return statements can only be used within functions, no conditional statements"
   ]
  },
  {
   "cell_type": "markdown",
   "id": "a7166d68",
   "metadata": {},
   "source": [
    "**Exercise 9: For Loop**\n",
    "- Create a list of numbers from 1 to 5.\n",
    "- Use a for loop to iterate through the list and print each number."
   ]
  },
  {
   "cell_type": "code",
   "execution_count": 18,
   "id": "be772070",
   "metadata": {},
   "outputs": [
    {
     "name": "stdout",
     "output_type": "stream",
     "text": [
      "1\n",
      "2\n",
      "3\n",
      "4\n",
      "5\n"
     ]
    },
    {
     "data": {
      "text/plain": [
       "'\\nlist = []\\nfor x in range(1, 6):\\n    list.append(x)\\n'"
      ]
     },
     "execution_count": 18,
     "metadata": {},
     "output_type": "execute_result"
    }
   ],
   "source": [
    "list = [1, 2, 3, 4, 5]\n",
    "\n",
    "for x in list:\n",
    "    print(x)\n",
    "\n",
    "'''\n",
    "list = []\n",
    "for x in range(1, 6):\n",
    "    list.append(x)\n",
    "'''"
   ]
  },
  {
   "cell_type": "markdown",
   "id": "6cbe95c8",
   "metadata": {},
   "source": [
    "**Exercise 10: While Loop**\n",
    "- Write a program that uses a while loop to print numbers from 1 to 5.\n",
    "- Ensure the loop terminates correctly."
   ]
  },
  {
   "cell_type": "code",
   "execution_count": 19,
   "id": "588744e7",
   "metadata": {},
   "outputs": [
    {
     "name": "stdout",
     "output_type": "stream",
     "text": [
      "1\n",
      "2\n",
      "3\n",
      "4\n",
      "5\n"
     ]
    }
   ],
   "source": [
    "index = 1\n",
    "\n",
    "while index < 6:\n",
    "    print(index)\n",
    "    index += 1"
   ]
  },
  {
   "cell_type": "markdown",
   "id": "b03665ba",
   "metadata": {},
   "source": [
    "Exercise 11: Match Statement (Python 3.10+)\n",
    "- Write a program that:\n",
    "     1. Asks the user to input a grade (e.g., \"A\", \"B\", \"C\", \"D\", or \"F\").\n",
    "     1. Use a match statement to print a corresponding message for each grade:\n",
    "         1. \"A\": \"Excellent!\"\n",
    "         1.  \"B\": \"Good job!\"\n",
    "         1. \"C\": \"Fair.\"\n",
    "         1. \"D\": \"Needs improvement.\"\n",
    "         1.  \"F\": \"Failing.\"\n",
    "     1. Handle invalid input by printing a default message."
   ]
  },
  {
   "cell_type": "code",
   "execution_count": 20,
   "id": "a87292dc",
   "metadata": {},
   "outputs": [
    {
     "name": "stdout",
     "output_type": "stream",
     "text": [
      "Invalid Input. Please retry\n"
     ]
    }
   ],
   "source": [
    "grade = input('Please input a grade from A to F, except E: ')\n",
    "\n",
    "if grade.capitalize() == 'A':\n",
    "    print('Excellent!')\n",
    "elif grade.capitalize() == 'B':\n",
    "    print('Good job!')\n",
    "elif grade.capitalize() == 'C':\n",
    "    print('Fair.')\n",
    "elif grade.capitalize() == 'D':\n",
    "    print('Needs improvement.')\n",
    "elif grade.capitalize() == 'F':\n",
    "    print('Failing')\n",
    "else:\n",
    "    print('Invalid Input. Please retry')"
   ]
  },
  {
   "cell_type": "markdown",
   "id": "c7f7e11e",
   "metadata": {},
   "source": [
    "**Exercise 12: Define a Function**\n",
    "- Write a function called greet that takes a name as an argument and prints \"Hello, [name]!\".\n",
    "- Call the function with your own name."
   ]
  },
  {
   "cell_type": "code",
   "execution_count": 21,
   "id": "70b77695",
   "metadata": {},
   "outputs": [
    {
     "name": "stdout",
     "output_type": "stream",
     "text": [
      "Hello, Alex!\n"
     ]
    }
   ],
   "source": [
    "def greet(name):\n",
    "    print(f'Hello, {name}!')\n",
    "\n",
    "greet('Alex')"
   ]
  },
  {
   "cell_type": "markdown",
   "id": "24ccb489",
   "metadata": {},
   "source": [
    "**Exercise 13: Function with Return Value**\n",
    "- Define a function called square that takes a number as an argument and returns its square.\n",
    "- Print the result of calling this function with different numbers."
   ]
  },
  {
   "cell_type": "code",
   "execution_count": 22,
   "id": "7349c039",
   "metadata": {},
   "outputs": [
    {
     "name": "stdout",
     "output_type": "stream",
     "text": [
      "20.25\n"
     ]
    }
   ],
   "source": [
    "def square(number):\n",
    "    return number ** 2\n",
    "\n",
    "print(square(4.5))"
   ]
  },
  {
   "cell_type": "markdown",
   "id": "b5ac8ef9",
   "metadata": {},
   "source": [
    "**Exercise 14: Function with Default Parameters**\n",
    "- Write a function called multiply that takes two parameters, a and b, and returns their product.\n",
    "Set a default value of 1 for the parameter b.\n",
    "- Test the function with and without providing the second argument."
   ]
  },
  {
   "cell_type": "code",
   "execution_count": 23,
   "id": "57a902b2",
   "metadata": {},
   "outputs": [
    {
     "name": "stdout",
     "output_type": "stream",
     "text": [
      "28\n",
      "3\n"
     ]
    }
   ],
   "source": [
    "def multiply(a, b = 1):\n",
    "    return a * b\n",
    "\n",
    "test_one = multiply(4, 7)\n",
    "test_two = multiply(3)\n",
    "\n",
    "print(test_one)\n",
    "print(test_two)"
   ]
  },
  {
   "cell_type": "markdown",
   "id": "5813be8c",
   "metadata": {},
   "source": [
    "**Exercise 15: List Comprehension**\n",
    "- Create a list of numbers from 1 to 10.\n",
    "- Use list comprehension to create a new list that contains the squares of these numbers.\n",
    "- Print the new list."
   ]
  },
  {
   "cell_type": "code",
   "execution_count": 24,
   "id": "1cf78918",
   "metadata": {},
   "outputs": [
    {
     "name": "stdout",
     "output_type": "stream",
     "text": [
      "[1, 2, 3, 4, 5, 6, 7, 8, 9]\n",
      "[1, 4, 9, 16, 25, 36, 49, 64, 81]\n"
     ]
    }
   ],
   "source": [
    "list = []\n",
    "for x in range(1,10):\n",
    "    list.append(x)\n",
    "\n",
    "squared_list = []\n",
    "for x in list:\n",
    "    squared_list.append(x**2)\n",
    "    \n",
    "print(list)\n",
    "print(squared_list)"
   ]
  },
  {
   "cell_type": "markdown",
   "id": "728daabf",
   "metadata": {},
   "source": [
    "**Exercise 16: Nested Data Structures**\n",
    "- Create a dictionary where the keys are names of students and the values are lists of their grades.\n",
    "- Write a function that takes the dictionary and prints the average grade for each student."
   ]
  },
  {
   "cell_type": "code",
   "execution_count": 25,
   "id": "6e401f7b",
   "metadata": {},
   "outputs": [
    {
     "name": "stdout",
     "output_type": "stream",
     "text": [
      "The average grade of student Jeff is 5.0\n",
      "The average grade of student Clara is 7.8\n",
      "The average grade of student Antonia is 6.6\n",
      "The average grade of student Louisa is 4.2\n",
      "The average grade of student Emil is 4.8\n"
     ]
    }
   ],
   "source": [
    "gradebook = {'Jeff':(4,2,4,8,5,7), 'Clara':(9,9,7,6,8), 'Antonia':(5,9,6,6,7), 'Louisa':(4,5,2,3,7), 'Emil':(7,6,3,4,4)}\n",
    "\n",
    "def grades(gradebook):\n",
    "    for key, value in gradebook.items():\n",
    "        key_average = sum(value) / len(value)\n",
    "        print(f'The average grade of student {key} is {key_average}')\n",
    "                 \n",
    "grades(gradebook)"
   ]
  },
  {
   "cell_type": "markdown",
   "id": "775866d6",
   "metadata": {},
   "source": [
    "**Exercise 17: Simple Calculator**\n",
    "- Write a program that:\n",
    "    1. Defines a function calculate which takes three parameters: two numbers and an operator (+, -, *, /).\n",
    "    1. Performs the operation and returns the result.\n",
    "    1. Ask the user for the two numbers and the operator, then call the function and print the result."
   ]
  },
  {
   "cell_type": "code",
   "execution_count": 26,
   "id": "4a3364ba",
   "metadata": {},
   "outputs": [
    {
     "name": "stdout",
     "output_type": "stream",
     "text": [
      "False Operator\n"
     ]
    }
   ],
   "source": [
    "def calculate(num1, num2, operator):\n",
    "    if operator == '*':\n",
    "        return int(num1) * int(num2)\n",
    "    elif operator == '+':\n",
    "        return int(num1) + int(num2)\n",
    "    elif operator == '-':\n",
    "        return int(num1) - int(num2)\n",
    "    elif operator == '/':\n",
    "        return int(num1) / int(num2)\n",
    "    else:\n",
    "        print('False Operator')\n",
    "\n",
    "number_1 = input('Please name a number: ')\n",
    "number_2 = input('Please name another number: ')\n",
    "op = str(input('Please name an operator (+, -, *, /): '))\n",
    "\n",
    "calculate(number_1, number_2, op)"
   ]
  },
  {
   "cell_type": "code",
   "execution_count": 27,
   "id": "7eafd9b0",
   "metadata": {},
   "outputs": [
    {
     "name": "stdout",
     "output_type": "stream",
     "text": [
      "15\n"
     ]
    },
    {
     "data": {
      "text/plain": [
       "'for x in list:\\n    total += x\\n    print(total)'"
      ]
     },
     "execution_count": 27,
     "metadata": {},
     "output_type": "execute_result"
    }
   ],
   "source": [
    "list = [3, 4, 6, 2]\n",
    "\n",
    "total = sum(list)\n",
    "print(total)\n",
    "\n",
    "\n",
    "'''for x in list:\n",
    "    total += x\n",
    "    print(total)'''"
   ]
  }
 ],
 "metadata": {
  "kernelspec": {
   "display_name": "Python 3 (ipykernel)",
   "language": "python",
   "name": "python3"
  },
  "language_info": {
   "codemirror_mode": {
    "name": "ipython",
    "version": 3
   },
   "file_extension": ".py",
   "mimetype": "text/x-python",
   "name": "python",
   "nbconvert_exporter": "python",
   "pygments_lexer": "ipython3",
   "version": "3.10.15"
  }
 },
 "nbformat": 4,
 "nbformat_minor": 5
}
