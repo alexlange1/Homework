{
 "cells": [
  {
   "cell_type": "markdown",
   "id": "fb3ce252",
   "metadata": {},
   "source": [
    "**Exercise 1: FizzBuzz**\n",
    "1. Write a FizzBuzz Function: Create a function fizzbuzz(n) that takes an integer n as a parameter.\n",
    "2. Implement FizzBuzz Logic: The function should print:\n",
    "- \"Fizz\" for multiples of 3\n",
    "- \"Buzz\" for multiples of 5\n",
    "- \"FizzBuzz\" for multiples of both 3 and 5\n",
    "- The number itself for other numbers\n",
    "3. Call the Function: Call the function for numbers 1 to 20."
   ]
  },
  {
   "cell_type": "code",
   "execution_count": null,
   "id": "88162cf0",
   "metadata": {},
   "outputs": [],
   "source": [
    "def FizzBuzz(n):\n",
    "    if n % 3 == 0:\n",
    "        if n % 5 == 0:\n",
    "            print('FizzBuzz')\n",
    "        else:\n",
    "            print('Fizz')\n",
    "    elif n % 5 == 0:\n",
    "        print('Buzz')\n",
    "    else:\n",
    "        print(n)\n",
    "\n",
    "for index in range(1, 20):\n",
    "    FizzBuzz(index)"
   ]
  },
  {
   "cell_type": "markdown",
   "id": "13d95457",
   "metadata": {},
   "source": [
    "**Exercise 2: Basic Data Filtering**\n",
    "1. Create a List of Mixed Data Types: Create a list that contains a mix of integers, strings, and floats.\n",
    "2. Filter the List: Use list comprehension to create a new list that contains only the integers from the original list.\n",
    "3. Print the New List: Output the filtered list of integers."
   ]
  },
  {
   "cell_type": "code",
   "execution_count": null,
   "id": "a962843c",
   "metadata": {},
   "outputs": [],
   "source": [
    "mixed_list = [0, 'hello', 4, 3.2, 'day']\n",
    "\n",
    "new_list = [n for n in mixed_list if isinstance(n, int)]\n",
    "\n",
    "print(new_list)"
   ]
  },
  {
   "cell_type": "markdown",
   "id": "7b5c5ddf",
   "metadata": {},
   "source": [
    "**Exercise 3: Simple To-Do List**\n",
    "1. Create an Empty List: Start with an empty list called todo_list.\n",
    "2. Define Functions:\n",
    "- A function add_task(task) that adds a task to the list.\n",
    "- A function show_tasks() that prints all tasks in the list"
   ]
  },
  {
   "cell_type": "code",
   "execution_count": null,
   "id": "9515d03c",
   "metadata": {},
   "outputs": [],
   "source": [
    "todo_list = []\n",
    "\n",
    "def add_task(task):\n",
    "    todo_list.append(task)\n",
    "\n",
    "def show_tasks():\n",
    "    if todo_list:\n",
    "        for element in todo_list:\n",
    "            print(element)\n",
    "    else:\n",
    "        print(\"Your list is empty.\")\n",
    "\n",
    "show_tasks()\n",
    "add_task('Clean Up')\n",
    "show_tasks()"
   ]
  },
  {
   "cell_type": "markdown",
   "id": "0a0d951a",
   "metadata": {},
   "source": [
    "**Exercise 4: Temperature Converter**\n",
    "1. Define a Conversion Function: Write a function celsius_to_fahrenheit(celsius) that converts Celsius to Fahrenheit.\n",
    "2. Print the Result: Output the converted temperature for 22ºF, 46ºF, 51ºF and 76ºF."
   ]
  },
  {
   "cell_type": "code",
   "execution_count": null,
   "id": "deee3d85",
   "metadata": {},
   "outputs": [],
   "source": [
    "def celsius_to_fahrenheit(celsius):\n",
    "    return celsius * (9/5) + 32 \n",
    "\n",
    "print(celsius_to_fahrenheit(22))\n",
    "print(celsius_to_fahrenheit(46))\n",
    "print(celsius_to_fahrenheit(51))\n",
    "print(celsius_to_fahrenheit(76))"
   ]
  }
 ],
 "metadata": {
  "kernelspec": {
   "display_name": "Python 3 (ipykernel)",
   "language": "python",
   "name": "python3"
  },
  "language_info": {
   "codemirror_mode": {
    "name": "ipython",
    "version": 3
   },
   "file_extension": ".py",
   "mimetype": "text/x-python",
   "name": "python",
   "nbconvert_exporter": "python",
   "pygments_lexer": "ipython3",
   "version": "3.10.15"
  }
 },
 "nbformat": 4,
 "nbformat_minor": 5
}
