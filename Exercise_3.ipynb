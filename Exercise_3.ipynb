{
  "cells": [
    {
      "cell_type": "markdown",
      "id": "24b98369-c7ba-450b-a8b5-e34319000695",
      "metadata": {
        "editable": true,
        "id": "24b98369-c7ba-450b-a8b5-e34319000695",
        "tags": []
      },
      "source": [
        "# Python for Data Science\n",
        "## Session 3\n",
        "### Object Oriented Programming"
      ]
    },
    {
      "cell_type": "markdown",
      "id": "3ace1343-d73d-466d-aa07-56febbb7cbf1",
      "metadata": {
        "editable": true,
        "id": "3ace1343-d73d-466d-aa07-56febbb7cbf1",
        "tags": []
      },
      "source": [
        "---"
      ]
    },
    {
      "cell_type": "markdown",
      "id": "c5ffee69-5d4d-4f1c-9ed7-083afbc931ec",
      "metadata": {
        "editable": true,
        "id": "c5ffee69-5d4d-4f1c-9ed7-083afbc931ec",
        "tags": []
      },
      "source": [
        "## Outline\n",
        "1. Classes and objects\n",
        "2. Abstraction and Inheritance\n",
        "3. Polymorphism and Encapsulation"
      ]
    },
    {
      "cell_type": "markdown",
      "id": "aba315f4-e9bf-4a66-b3d3-593037c3ca70",
      "metadata": {
        "editable": true,
        "id": "aba315f4-e9bf-4a66-b3d3-593037c3ca70",
        "tags": []
      },
      "source": [
        "---"
      ]
    },
    {
      "cell_type": "markdown",
      "id": "8ed45dcb-2cf5-4bfa-ba6e-5da25c59757c",
      "metadata": {
        "editable": true,
        "id": "8ed45dcb-2cf5-4bfa-ba6e-5da25c59757c",
        "tags": []
      },
      "source": [
        "## Object Oriented programming\n",
        "\n",
        "In Data science there are three different types of programming paradigms:\n",
        "\n",
        "1. **Object-oriented programming** organizes code using objects that represent real-world entities. It provides modularity, code reuse and abstraction, making it suitable for handling large and complex applications.\n",
        "\n",
        "2. **Functional programming** emphasizes the use of **pure functions** that can be easily composed and reused, ideal for transforming data.\n",
        "\n",
        "3. **Declarative programming** consists in specifyin what the program should accomplish, rather than how to accomplish it.\n",
        "\n"
      ]
    },
    {
      "cell_type": "markdown",
      "id": "42f9f227-0941-4967-9a4b-c282bb0e4cfc",
      "metadata": {
        "editable": true,
        "id": "42f9f227-0941-4967-9a4b-c282bb0e4cfc",
        "tags": []
      },
      "source": [
        "**Pure functions** are functions that always produce the same output for the same input and haven't got any side effects, meaning it does not modify external states or variables."
      ]
    },
    {
      "cell_type": "markdown",
      "id": "00b01ced-eda7-423f-8522-96bd3f1a4125",
      "metadata": {
        "editable": true,
        "id": "00b01ced-eda7-423f-8522-96bd3f1a4125",
        "tags": []
      },
      "source": [
        "---"
      ]
    },
    {
      "cell_type": "markdown",
      "id": "9434c993-aac1-4655-bf69-477b9dc5d2ee",
      "metadata": {
        "editable": true,
        "id": "9434c993-aac1-4655-bf69-477b9dc5d2ee",
        "tags": []
      },
      "source": [
        "## Object Oriented programming\n",
        "\n",
        "OOP main concepts are:\n",
        "\n",
        "1. **Class**: A template to create objects.\n",
        "2. **Object**: An instance of a class, representing a specific entity.\n",
        "3. **Attributes**: Properties of an object (variables within a class that define it).\n",
        "4. **Methods**: Actions that objects can perform (functions within a class)."
      ]
    },
    {
      "cell_type": "code",
      "execution_count": 1,
      "id": "1e350f15-ae19-4323-a1c6-25d80118a5f3",
      "metadata": {
        "editable": true,
        "id": "1e350f15-ae19-4323-a1c6-25d80118a5f3",
        "tags": []
      },
      "outputs": [],
      "source": [
        "class Pet:\n",
        "    pass  # Empty class as a placeholder"
      ]
    },
    {
      "cell_type": "code",
      "execution_count": 2,
      "id": "2e427c6d-a0fc-47de-a6e8-de71ae500619",
      "metadata": {
        "editable": true,
        "id": "2e427c6d-a0fc-47de-a6e8-de71ae500619",
        "tags": []
      },
      "outputs": [],
      "source": [
        "my_pet = Pet() # Instance of a class"
      ]
    },
    {
      "cell_type": "code",
      "execution_count": 3,
      "id": "1cda9d57-aedb-4e70-af5b-7193174a2430",
      "metadata": {
        "editable": true,
        "id": "1cda9d57-aedb-4e70-af5b-7193174a2430",
        "tags": []
      },
      "outputs": [],
      "source": [
        "# Note: self refers to the instance of the class and is used to access its attributes and methods\n",
        "class Pet:\n",
        "    def __init__(self, name): # constructor\n",
        "        self.name = name"
      ]
    },
    {
      "cell_type": "code",
      "execution_count": 4,
      "id": "c4f13ca9-dd0a-4b53-8f30-5a507979b1ed",
      "metadata": {
        "editable": true,
        "id": "c4f13ca9-dd0a-4b53-8f30-5a507979b1ed",
        "tags": []
      },
      "outputs": [],
      "source": [
        "class Pet:\n",
        "    def __init__(self, name): # constructor\n",
        "        self.name = name # Instance attribute\n",
        "        self.age = None # Instance attribute set to None\n",
        "\n",
        "    def set_age(self, age): # Method\n",
        "        self.age = age"
      ]
    },
    {
      "cell_type": "markdown",
      "id": "92887f1e-c2b9-4abc-9324-af4c15250c3a",
      "metadata": {
        "editable": true,
        "id": "92887f1e-c2b9-4abc-9324-af4c15250c3a",
        "tags": []
      },
      "source": [
        "---"
      ]
    },
    {
      "cell_type": "markdown",
      "id": "d6c81e01-e268-4490-b970-b9f3d7a08d30",
      "metadata": {
        "editable": true,
        "id": "d6c81e01-e268-4490-b970-b9f3d7a08d30",
        "tags": []
      },
      "source": [
        "## Object Oriented programming\n",
        "### Abstraction\n",
        "\n",
        "Abstraction consists in hiding any variables and internal parts of an object that don’t need to be shown during interaction. Making only available the essential functionalities.\n",
        "\n",
        "You may want to call a method from an object that searches for something in an internal list, and in this case, you don't need to see the algorithm behind it, you just need to call the method and get what you want."
      ]
    },
    {
      "cell_type": "markdown",
      "id": "23e1e6b4-322a-4cd5-8a82-72877cc98804",
      "metadata": {
        "editable": true,
        "id": "23e1e6b4-322a-4cd5-8a82-72877cc98804",
        "tags": []
      },
      "source": [
        "## Object Oriented programming\n",
        "### Inheritance\n",
        "\n",
        "Inheritance permits any class to inherit attributes and methods from another class. This reduces code duplication and enables the creation of specialized classes based on general ones."
      ]
    },
    {
      "cell_type": "code",
      "execution_count": 5,
      "id": "76c58110-a965-432f-8dcf-f457079fec65",
      "metadata": {
        "editable": true,
        "id": "76c58110-a965-432f-8dcf-f457079fec65",
        "tags": []
      },
      "outputs": [],
      "source": [
        "class Pet:\n",
        "    def __init__(self, age, name): # Constructor\n",
        "        self.age = age # Attribute\n",
        "        self.name = name # Attribute\n",
        "\n",
        "    def describe(self): # Method\n",
        "        print(f\"This pet's name is {self.name}.\")\n",
        "\n",
        "class Dog(Pet):\n",
        "    def __init__(self, age, name, breed): # Constructor\n",
        "        super().__init__(age, name)  # Call the parent class's __init__ method\n",
        "        self.breed = breed # New attribute for this specialized class\n",
        "\n",
        "    def describe(self):\n",
        "        super().describe()  # Call the parent class's describe method\n",
        "        print(f\"This dog is {self.age} years old and is a {self.breed}.\")"
      ]
    },
    {
      "cell_type": "code",
      "execution_count": null,
      "id": "48301f74-ece3-49ec-9332-2c168743ebc8",
      "metadata": {
        "editable": true,
        "id": "48301f74-ece3-49ec-9332-2c168743ebc8",
        "tags": []
      },
      "outputs": [],
      "source": [
        "my_dog = Dog(3, 'Rock', 'Great Dane')"
      ]
    },
    {
      "cell_type": "code",
      "execution_count": null,
      "id": "eae7678f-665a-4916-96d2-3926a312aea5",
      "metadata": {
        "editable": true,
        "id": "eae7678f-665a-4916-96d2-3926a312aea5",
        "outputId": "3abb92a2-d911-43f9-bf4b-bb7ecdaf371f",
        "tags": []
      },
      "outputs": [
        {
          "name": "stdout",
          "output_type": "stream",
          "text": [
            "This pet's name is Rock.\n",
            "This dog is 3 years old and is a Great Dane.\n"
          ]
        }
      ],
      "source": [
        "my_dog.describe()"
      ]
    },
    {
      "cell_type": "code",
      "execution_count": 13,
      "id": "1266e35e",
      "metadata": {},
      "outputs": [
        {
          "name": "stdout",
          "output_type": "stream",
          "text": [
            "The player will cost 120\n"
          ]
        }
      ],
      "source": [
        "class football:\n",
        "    def __init__(self, club, market_value = 100):\n",
        "        self.club = club\n",
        "        self.market_value = market_value\n",
        "    def transfer_value(self):\n",
        "        if self.club == 'Bayern Munich':\n",
        "            print(f'The player will cost {self.market_value}')\n",
        "        elif self.club == 'Dortmund':\n",
        "            print(f'The player will cost {self.market_value - 10}')\n",
        "        else: \n",
        "            print(f'The player will cost {self.market_value - 50}')\n",
        "            \n",
        "player_1 = football('Bayern Munich', 120)\n",
        "player_1.transfer_value()"
      ]
    },
    {
      "cell_type": "code",
      "execution_count": 25,
      "id": "fb1378d4",
      "metadata": {},
      "outputs": [
        {
          "name": "stdout",
          "output_type": "stream",
          "text": [
            "Sorry, there are too many coins!\n"
          ]
        }
      ],
      "source": [
        "class crypto:\n",
        "    def __init__(self, market_cap):\n",
        "        self.market_cap = market_cap\n",
        "    def market_cap_coin(self):\n",
        "        if self.market_cap >= 500:\n",
        "            print('The cryptocurrency must be Bitcoin!')\n",
        "        elif 10 <= self.market_cap <= 499:\n",
        "            print('Ethereum!') \n",
        "        else:\n",
        "            print('Sorry, there are too many coins!')\n",
        "\n",
        "user_market_cap = float(input('Please name the market cap of your coin: '))\n",
        "coin_1 = crypto(user_market_cap)\n",
        "coin_1.market_cap_coin()"
      ]
    },
    {
      "cell_type": "markdown",
      "id": "220f9368-0c1a-4ac8-9785-a33b11e5df77",
      "metadata": {
        "editable": true,
        "id": "220f9368-0c1a-4ac8-9785-a33b11e5df77",
        "tags": []
      },
      "source": [
        "---"
      ]
    },
    {
      "cell_type": "markdown",
      "id": "88ff8053-d1d0-4c08-b8e5-6c84e94c4f24",
      "metadata": {
        "editable": true,
        "id": "88ff8053-d1d0-4c08-b8e5-6c84e94c4f24",
        "tags": []
      },
      "source": [
        "## Object Oriented programming\n",
        "### Polymorphism\n",
        "\n",
        "It allows the same method name to behave differently based on the object calling it, which can be achieved through method overriding."
      ]
    },
    {
      "cell_type": "code",
      "execution_count": 26,
      "id": "db4cd9e2-0188-4511-a81b-070221d74af5",
      "metadata": {
        "editable": true,
        "id": "db4cd9e2-0188-4511-a81b-070221d74af5",
        "tags": []
      },
      "outputs": [],
      "source": [
        "class Cat(Pet):\n",
        "    def __init__(self, age, name, breed): # Constructor\n",
        "        super().__init__(age, name)  # Call the parent class's __init__ method\n",
        "        self.breed = breed # New attribute for this specialized class\n",
        "\n",
        "    def describe(self): # Method\n",
        "        print(f\"This super cat is {self.age} years old and is a {self.breed}.\")"
      ]
    },
    {
      "cell_type": "code",
      "execution_count": null,
      "id": "ced1143b-98db-46db-8e90-fed185aad835",
      "metadata": {
        "editable": true,
        "id": "ced1143b-98db-46db-8e90-fed185aad835",
        "outputId": "3c3d99c3-5191-40d9-a25c-9d4516c6ca93",
        "tags": []
      },
      "outputs": [
        {
          "name": "stdout",
          "output_type": "stream",
          "text": [
            "This super cat is 7 years old and is a Siamese.\n"
          ]
        }
      ],
      "source": [
        "my_cat = Cat(7, 'Bella', 'Siamese')\n",
        "my_cat.describe()"
      ]
    },
    {
      "cell_type": "markdown",
      "id": "cd327548-f048-4d39-9b72-6dff6cd6963d",
      "metadata": {
        "editable": true,
        "id": "cd327548-f048-4d39-9b72-6dff6cd6963d",
        "tags": []
      },
      "source": [
        "---"
      ]
    },
    {
      "cell_type": "markdown",
      "id": "854b31bb-2b21-42fd-939a-f82f71a549f0",
      "metadata": {
        "editable": true,
        "id": "854b31bb-2b21-42fd-939a-f82f71a549f0",
        "tags": []
      },
      "source": [
        "## Object Oriented programming\n",
        "### Encapsulation\n",
        "\n",
        "It consists in restricting access to variables and methods outside the object. This way we ensure the integrity of the data within the object.\n",
        "\n",
        "In python, prefixing a variable or method name with an underscore **_** indicates that it is intended for internal use only, while a double underscore **__** modifies the variable name for better encapsulation.\n",
        "\n",
        "It is worth mentioning that this is a convention, and variables and methods are still accessible."
      ]
    },
    {
      "cell_type": "code",
      "execution_count": null,
      "id": "33e1bdf2-8798-41f1-9ed3-957c730dc9ad",
      "metadata": {
        "editable": true,
        "id": "33e1bdf2-8798-41f1-9ed3-957c730dc9ad",
        "tags": []
      },
      "outputs": [],
      "source": [
        "class Student:\n",
        "    def __init__(self, name, age, address=None):\n",
        "        self.name = name # Public attribute\n",
        "        self._age =   age # Private attribute\n",
        "        self._address = address  # Private attribute\n",
        "\n",
        "    def get_address(self): # Method\n",
        "        return self._address\n",
        "\n",
        "    def set_address(self, address): # Method\n",
        "        address = ''.join(filter(self._remove_special_characters, address))\n",
        "        self._address = address\n",
        "\n",
        "    def _remove_special_characters(self, character): # Private method\n",
        "        if character.isalnum() or character == ' ' or character == '-':\n",
        "            return True\n",
        "        else:\n",
        "            return False\n"
      ]
    },
    {
      "cell_type": "code",
      "execution_count": null,
      "id": "a4e46c71-63e9-474e-91a6-9d9a323636dc",
      "metadata": {
        "editable": true,
        "id": "a4e46c71-63e9-474e-91a6-9d9a323636dc",
        "outputId": "f3fdcc29-3661-46e6-e645-397a94c9874c",
        "tags": []
      },
      "outputs": [
        {
          "name": "stdout",
          "output_type": "stream",
          "text": [
            "The student named Joan has the following address: Avinguda Buenos Aires nº 31 7e-1a\n"
          ]
        }
      ],
      "source": [
        "student = Student(\"Joan\", 24)\n",
        "student.set_address(\"Avinguda Buenos Aires nº 31! 7e-1a\")\n",
        "print(f\"The student named {student.name} has the following address: {student.get_address()}\")"
      ]
    },
    {
      "cell_type": "markdown",
      "id": "f4552012-e0e9-40af-8801-69d83733d433",
      "metadata": {
        "editable": true,
        "id": "f4552012-e0e9-40af-8801-69d83733d433",
        "tags": []
      },
      "source": [
        "---"
      ]
    },
    {
      "cell_type": "markdown",
      "id": "42f8be9a-cc71-4a58-97ac-1a54219a2d72",
      "metadata": {
        "editable": true,
        "id": "42f8be9a-cc71-4a58-97ac-1a54219a2d72",
        "tags": []
      },
      "source": [
        "## Object Oriented programming\n",
        "### Hands on\n",
        "\n",
        "Let's design a course registration system, where the requirements will be:\n",
        "\n",
        "1. Create a **Course** class, where each course has a name, a description and a list of enrolled students. You'll need to implement the next methods:\n",
        "    - Add a student to the course.\n",
        "    - Remove a student from the course.\n",
        "    - Show all students in the course."
      ]
    },
    {
      "cell_type": "code",
      "execution_count": 32,
      "id": "e5430dcf-a01a-4ea1-aff8-5bad4531ab1e",
      "metadata": {
        "editable": true,
        "id": "e5430dcf-a01a-4ea1-aff8-5bad4531ab1e",
        "tags": []
      },
      "outputs": [
        {
          "data": {
            "text/plain": [
              "['John', 'Anna', 'Steven', 'Lily']"
            ]
          },
          "execution_count": 32,
          "metadata": {},
          "output_type": "execute_result"
        }
      ],
      "source": [
        "class Course:\n",
        "    def __init__(self, name, course_type, enrolled_students):\n",
        "        self.name = name\n",
        "        self.course_type = course_type\n",
        "        self.enrolled_students = enrolled_students\n",
        "\n",
        "    def add_student(self, student_name):\n",
        "        return self.enrolled_students.append(student_name) \n",
        "    \n",
        "    def remove_student(self, student_name):\n",
        "        return self.enrolled_students.remove(student_name)\n",
        "    \n",
        "    def show_students(self):\n",
        "        return self.enrolled_students\n",
        "    \n",
        "math = Course('mathematics', 'numbers', ['Alex', 'John', 'Anna', 'Steven'])\n",
        "\n",
        "math.add_student('Lily')\n",
        "math.remove_student('Alex')\n",
        "math.show_students()"
      ]
    },
    {
      "cell_type": "markdown",
      "id": "e18893d9",
      "metadata": {},
      "source": [
        "**Alternative Solution**"
      ]
    },
    {
      "cell_type": "code",
      "execution_count": 33,
      "id": "5e63fe76",
      "metadata": {},
      "outputs": [
        {
          "name": "stdout",
          "output_type": "stream",
          "text": [
            "Alex has been added to the course Mathematics.\n",
            "John has been added to the course Mathematics.\n",
            "Anna has been added to the course Mathematics.\n",
            "John is already enrolled in the course.\n",
            "Students enrolled in Mathematics: Alex, John, Anna\n",
            "Alex has been removed from the course Mathematics.\n",
            "Students enrolled in Mathematics: John, Anna\n",
            "Steven is not enrolled in the course.\n"
          ]
        }
      ],
      "source": [
        "class Course:\n",
        "    def __init__(self, name, description):\n",
        "        self.name = name\n",
        "        self.description = description\n",
        "        self.enrolled_students = []\n",
        "\n",
        "    def add_student(self, student_name):\n",
        "        if student_name not in self.enrolled_students:\n",
        "            self.enrolled_students.append(student_name)\n",
        "            print(f\"{student_name} has been added to the course {self.name}.\")\n",
        "        else:\n",
        "            print(f\"{student_name} is already enrolled in the course.\")\n",
        "\n",
        "    def remove_student(self, student_name):\n",
        "        if student_name in self.enrolled_students:\n",
        "            self.enrolled_students.remove(student_name)\n",
        "            print(f\"{student_name} has been removed from the course {self.name}.\")\n",
        "        else:\n",
        "            print(f\"{student_name} is not enrolled in the course.\")\n",
        "\n",
        "    def show_students(self):\n",
        "        if self.enrolled_students:\n",
        "            print(f\"Students enrolled in {self.name}: {', '.join(self.enrolled_students)}\")\n",
        "        else:\n",
        "            print(f\"There are no students currently enrolled in {self.name}.\")\n",
        "\n",
        "math_course = Course('Mathematics', 'A course about numbers, algebra, and geometry.')\n",
        "\n",
        "math_course.add_student('Alex')\n",
        "math_course.add_student('John')\n",
        "math_course.add_student('Anna')\n",
        "math_course.add_student('John') \n",
        "\n",
        "math_course.show_students()\n",
        "math_course.remove_student('Alex')\n",
        "\n",
        "math_course.show_students()\n",
        "math_course.remove_student('Steven')\n"
      ]
    },
    {
      "cell_type": "markdown",
      "id": "16cc578c-9fe3-4478-81da-3071e3adb318",
      "metadata": {
        "editable": true,
        "id": "16cc578c-9fe3-4478-81da-3071e3adb318",
        "tags": []
      },
      "source": [
        "## Object Oriented programming\n",
        "### Hands on\n",
        "\n",
        "2. Create a **Student** class, where each student has a name, ID number, address and a list of enrolled courses with the following methods:\n",
        "    - Enroll in a course.\n",
        "    - Drop a course.\n",
        "    - Show all registered student courses."
      ]
    },
    {
      "cell_type": "code",
      "execution_count": 50,
      "id": "fe4cce31-1ddf-4847-bc8d-924dc3e0dfe1",
      "metadata": {
        "editable": true,
        "id": "fe4cce31-1ddf-4847-bc8d-924dc3e0dfe1",
        "tags": []
      },
      "outputs": [
        {
          "name": "stdout",
          "output_type": "stream",
          "text": [
            "The student Alex has enrolled to class Mathematics\n",
            "The student Alex has enrolled to class History\n",
            "The student Alex has enrolled to class English\n",
            "The student Alex has enrolled to class Geography\n",
            "The student Alex has enrolled to class Biology\n",
            "The student Alex has enrolled to class Psychology\n",
            "The student Alex has enrolled to class German\n",
            "Geography has been dropped!\n"
          ]
        },
        {
          "data": {
            "text/plain": [
              "['mathematics', 'history', 'english', 'biology', 'psychology', 'german']"
            ]
          },
          "execution_count": 50,
          "metadata": {},
          "output_type": "execute_result"
        }
      ],
      "source": [
        "class Student:\n",
        "    def __init__(self, name, ID, address):\n",
        "        self.name = name\n",
        "        self._ID = ID\n",
        "        self._address = address\n",
        "        self.enrolled_classes = []\n",
        "    \n",
        "    def enroll(self, course):\n",
        "        if isinstance(course, list):\n",
        "            for individual_course in course:\n",
        "                if individual_course not in self.enrolled_classes:\n",
        "                    self.enrolled_classes.append(individual_course)\n",
        "                    print(f'The student {self.name} has enrolled to class {individual_course.capitalize()}')\n",
        "                else:\n",
        "                    print(f'The student {self.name} has already enrolled to {course.capitalize()} classes')\n",
        "        else:\n",
        "            if course not in self.enrolled_classes:\n",
        "                self.enrolled_classes.append(course)\n",
        "                print(f'The student {self.name} has enrolled to class {course.capitalize()}')\n",
        "            else:\n",
        "                print(f'The student {self.name} has already enrolled to {course.capitalize()} classes')\n",
        "\n",
        "\n",
        "    def drop(self, course):\n",
        "        if course in self.enrolled_classes:\n",
        "            self.enrolled_classes.remove(course)\n",
        "            print(f'{course.capitalize()} has been dropped!')\n",
        "        else:\n",
        "            print(f'Error. The course can not be dropped, as {self.name} are registered on class list.')\n",
        "\n",
        "    def show_classes(self):\n",
        "        return self.enrolled_classes\n",
        "    \n",
        "alex = Student('Alex', 5839832, 'Germany')\n",
        "alex.enroll(['mathematics', 'history', 'english', 'geography', 'biology', 'psychology'])\n",
        "alex.enroll('german')\n",
        "alex.show_classes()\n",
        "alex.drop('geography')\n",
        "alex.show_classes()"
      ]
    },
    {
      "cell_type": "markdown",
      "id": "5c54b2fe-691f-4520-b8d6-2515ba92b808",
      "metadata": {
        "editable": true,
        "id": "5c54b2fe-691f-4520-b8d6-2515ba92b808",
        "tags": []
      },
      "source": [
        "## Object Oriented programming\n",
        "### Hands on\n",
        "\n",
        "3. Create a central class that manages courses and students, **Registration** class, where you have a list of students and a list of courses, and methods:\n",
        "    - Enroll in a course.\n",
        "    - Drop a course.\n",
        "    - Show all the enrolled courses.\n",
        "    - Show all the students."
      ]
    },
    {
      "cell_type": "code",
      "execution_count": 61,
      "id": "863f30c7-3cf8-4ac9-8599-e7df8e0d483c",
      "metadata": {
        "editable": true,
        "id": "863f30c7-3cf8-4ac9-8599-e7df8e0d483c",
        "tags": []
      },
      "outputs": [
        {
          "name": "stdout",
          "output_type": "stream",
          "text": [
            "Courses Offered: ['Mathematics', 'History', 'Physics', 'Chemistry']\n",
            "Students Enrolled: ['Alice', 'Bob', 'Charlie', 'Diana']\n",
            "Student Eve has been successfully registered for the English course.\n"
          ]
        }
      ],
      "source": [
        "class Main:\n",
        "    def __init__(self, name):\n",
        "        self.name = name\n",
        "        self.courses_offered = []\n",
        "        self.students_enrolled = []\n",
        "\n",
        "    def add_course(self, course):\n",
        "        if isinstance(course, list):\n",
        "            for c in course:\n",
        "                if c not in self.courses_offered:\n",
        "                    self.courses_offered.append(c)\n",
        "                else:\n",
        "                    print(f\"Course {c} is already offered.\")\n",
        "        else:\n",
        "            if course not in self.courses_offered:\n",
        "                self.courses_offered.append(course)\n",
        "            else:\n",
        "                print(f\"Course {course} is already offered.\")\n",
        "\n",
        "    def add_student(self, student):\n",
        "        if isinstance(student, list):\n",
        "            for individual_student in student:\n",
        "                if individual_student not in self.students_enrolled:\n",
        "                    self.students_enrolled.append(individual_student)\n",
        "                else:\n",
        "                    print(f\"Student {individual_student} is already enrolled.\")\n",
        "        else:\n",
        "            if student not in self.students_enrolled:\n",
        "                self.students_enrolled.append(student)\n",
        "            else:\n",
        "                print(f\"Student {student} is already enrolled.\")\n",
        "\n",
        "class Registration(Main):\n",
        "    def __init__(self, name):\n",
        "        super().__init__(name)\n",
        "\n",
        "    def register_student_for_course(self, student, course):\n",
        "        if student not in self.students_enrolled:\n",
        "            print(f\"Student {student} is not enrolled.\")\n",
        "            return\n",
        "\n",
        "        if course not in self.courses_offered:\n",
        "            print(f\"Course {course} is not offered.\")\n",
        "            return\n",
        "\n",
        "        print(f\"Student {student} has been successfully registered for the {course} course.\")\n",
        "\n",
        "school = Main(\"Green Valley School\")\n",
        "school.add_course(\"Mathematics\")\n",
        "school.add_course([\"History\", \"Physics\", \"Chemistry\"])\n",
        "school.add_student(\"Alice\")\n",
        "school.add_student([\"Bob\", \"Charlie\", \"Diana\"])\n",
        "print(\"Courses Offered:\", school.courses_offered)\n",
        "print(\"Students Enrolled:\", school.students_enrolled)\n",
        "\n",
        "registration = Registration(\"Green Valley School\")\n",
        "registration.add_course(\"English\")\n",
        "registration.add_student(\"Eve\")\n",
        "registration.register_student_for_course(\"Eve\", \"English\")\n"
      ]
    },
    {
      "cell_type": "markdown",
      "id": "2958b01b-3472-4c95-ae1f-771edc638749",
      "metadata": {
        "editable": true,
        "id": "2958b01b-3472-4c95-ae1f-771edc638749",
        "tags": []
      },
      "source": [
        "## Object Oriented programming\n",
        "### Howework\n",
        "\n",
        "4. Let's add grades to each student's course and create method that yields the GPA given a student name or ID."
      ]
    },
    {
      "cell_type": "code",
      "execution_count": 1,
      "id": "1e0d4dbb",
      "metadata": {},
      "outputs": [
        {
          "name": "stdout",
          "output_type": "stream",
          "text": [
            "Courses Offered: ['Mathematics', 'History', 'Physics', 'Chemistry']\n",
            "Students Enrolled: ['Alice', 'Bob', 'Charlie', 'Diana']\n",
            "Student Eve has been successfully registered for the English course.\n",
            "Grade 3.7 assigned to Eve for English.\n",
            "Student Alice is not enrolled.\n",
            "Cannot assign grade. Either student Alice is not enrolled or course Mathematics is not registered.\n",
            "Student Alice is not enrolled.\n",
            "Cannot assign grade. Either student Alice is not enrolled or course Physics is not registered.\n",
            "Eve's GPA: 3.7\n",
            "Student Alice is not enrolled.\n",
            "Alice's GPA: None\n"
          ]
        }
      ],
      "source": [
        "class Main:\n",
        "    def __init__(self, name):\n",
        "        self.name = name\n",
        "        self.courses_offered = []\n",
        "        self.students_enrolled = []\n",
        "        self.student_grades = {}  # Store grades for each student in courses\n",
        "\n",
        "    def add_course(self, course):\n",
        "        if isinstance(course, list):\n",
        "            for c in course:\n",
        "                if c not in self.courses_offered:\n",
        "                    self.courses_offered.append(c)\n",
        "                else:\n",
        "                    print(f\"Course {c} is already offered.\")\n",
        "        else:\n",
        "            if course not in self.courses_offered:\n",
        "                self.courses_offered.append(course)\n",
        "            else:\n",
        "                print(f\"Course {course} is already offered.\")\n",
        "\n",
        "    def add_student(self, student):\n",
        "        if isinstance(student, list):\n",
        "            for individual_student in student:\n",
        "                if individual_student not in self.students_enrolled:\n",
        "                    self.students_enrolled.append(individual_student)\n",
        "                    self.student_grades[individual_student] = {}  # Initialize empty grade dict\n",
        "                else:\n",
        "                    print(f\"Student {individual_student} is already enrolled.\")\n",
        "        else:\n",
        "            if student not in self.students_enrolled:\n",
        "                self.students_enrolled.append(student)\n",
        "                self.student_grades[student] = {}  # Initialize empty grade dict\n",
        "            else:\n",
        "                print(f\"Student {student} is already enrolled.\")\n",
        "\n",
        "\n",
        "class Registration(Main):\n",
        "    def __init__(self, name):\n",
        "        super().__init__(name)\n",
        "\n",
        "    def register_student_for_course(self, student, course):\n",
        "        if student not in self.students_enrolled:\n",
        "            print(f\"Student {student} is not enrolled.\")\n",
        "            return\n",
        "\n",
        "        if course not in self.courses_offered:\n",
        "            print(f\"Course {course} is not offered.\")\n",
        "            return\n",
        "\n",
        "        # Initially, assign a None grade (or 0 if you prefer)\n",
        "        if course not in self.student_grades[student]:\n",
        "            self.student_grades[student][course] = None  # Grade is initially None\n",
        "            print(f\"Student {student} has been successfully registered for the {course} course.\")\n",
        "        else:\n",
        "            print(f\"Student {student} is already registered for the course {course}.\")\n",
        "\n",
        "    def assign_grade(self, student, course, grade):\n",
        "        if student in self.students_enrolled and course in self.student_grades[student]:\n",
        "            self.student_grades[student][course] = grade\n",
        "            print(f\"Grade {grade} assigned to {student} for {course}.\")\n",
        "        else:\n",
        "            print(f\"Cannot assign grade. Either student {student} is not enrolled or course {course} is not registered.\")\n",
        "\n",
        "    def calculate_gpa(self, student):\n",
        "        if student not in self.students_enrolled:\n",
        "            print(f\"Student {student} is not enrolled.\")\n",
        "            return None\n",
        "\n",
        "        grades = list(self.student_grades[student].values())\n",
        "        valid_grades = [g for g in grades if g is not None]  # Ignore courses with no grade yet\n",
        "\n",
        "        if not valid_grades:\n",
        "            print(f\"Student {student} has no grades assigned.\")\n",
        "            return None\n",
        "\n",
        "        # Calculate GPA (assuming grades are out of 4.0)\n",
        "        gpa = sum(valid_grades) / len(valid_grades)\n",
        "        return round(gpa, 2)\n",
        "\n",
        "\n",
        "# Example usage:\n",
        "school = Main(\"Green Valley School\")\n",
        "school.add_course(\"Mathematics\")\n",
        "school.add_course([\"History\", \"Physics\", \"Chemistry\"])\n",
        "school.add_student(\"Alice\")\n",
        "school.add_student([\"Bob\", \"Charlie\", \"Diana\"])\n",
        "\n",
        "print(\"Courses Offered:\", school.courses_offered)\n",
        "print(\"Students Enrolled:\", school.students_enrolled)\n",
        "\n",
        "registration = Registration(\"Green Valley School\")\n",
        "registration.add_course(\"English\")\n",
        "registration.add_student(\"Eve\")\n",
        "\n",
        "# Register and assign grades\n",
        "registration.register_student_for_course(\"Eve\", \"English\")\n",
        "registration.assign_grade(\"Eve\", \"English\", 3.7)\n",
        "\n",
        "registration.register_student_for_course(\"Alice\", \"Mathematics\")\n",
        "registration.assign_grade(\"Alice\", \"Mathematics\", 4.0)\n",
        "\n",
        "registration.register_student_for_course(\"Alice\", \"Physics\")\n",
        "registration.assign_grade(\"Alice\", \"Physics\", 3.5)\n",
        "\n",
        "# Calculate GPA\n",
        "print(f\"Eve's GPA: {registration.calculate_gpa('Eve')}\")\n",
        "print(f\"Alice's GPA: {registration.calculate_gpa('Alice')}\")\n"
      ]
    },
    {
      "cell_type": "markdown",
      "id": "76c565a9-dc30-464c-980d-d522cd5246f4",
      "metadata": {
        "editable": true,
        "id": "76c565a9-dc30-464c-980d-d522cd5246f4",
        "tags": []
      },
      "source": [
        "## That's all!"
      ]
    }
  ],
  "metadata": {
    "colab": {
      "provenance": []
    },
    "kernelspec": {
      "display_name": "Python 3 (ipykernel)",
      "language": "python",
      "name": "python3"
    },
    "language_info": {
      "codemirror_mode": {
        "name": "ipython",
        "version": 3
      },
      "file_extension": ".py",
      "mimetype": "text/x-python",
      "name": "python",
      "nbconvert_exporter": "python",
      "pygments_lexer": "ipython3",
      "version": "3.10.15"
    }
  },
  "nbformat": 4,
  "nbformat_minor": 5
}
